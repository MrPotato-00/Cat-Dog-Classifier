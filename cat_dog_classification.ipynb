{
  "nbformat": 4,
  "nbformat_minor": 0,
  "metadata": {
    "colab": {
      "provenance": [],
      "gpuType": "T4",
      "authorship_tag": "ABX9TyMJ+q+kA5L0DGvviwbrmG+Y",
      "include_colab_link": true
    },
    "kernelspec": {
      "name": "python3",
      "display_name": "Python 3"
    },
    "language_info": {
      "name": "python"
    },
    "accelerator": "GPU"
  },
  "cells": [
    {
      "cell_type": "markdown",
      "metadata": {
        "id": "view-in-github",
        "colab_type": "text"
      },
      "source": [
        "<a href=\"https://colab.research.google.com/github/MrPotato-00/cat_dog_classifier/blob/main/cat_dog_classification.ipynb\" target=\"_parent\"><img src=\"https://colab.research.google.com/assets/colab-badge.svg\" alt=\"Open In Colab\"/></a>"
      ]
    },
    {
      "cell_type": "code",
      "execution_count": null,
      "metadata": {
        "id": "24ETPnJK7ryS"
      },
      "outputs": [],
      "source": [
        "#importing the libraries\n",
        "\n",
        "import pandas as pd\n",
        "import numpy as np\n",
        "import matplotlib.pyplot as plt\n",
        "import seaborn as sns\n",
        "import tensorflow as tf\n",
        "from keras.preprocessing.image import ImageDataGenerator"
      ]
    },
    {
      "cell_type": "code",
      "source": [
        "# importing the dataset from kaggle\n",
        "\n",
        "!mkdir -p ~/.kaggle\n",
        "!cp kaggle.json ~/.kaggle/\n",
        "!kaggle datasets download -d salader/dogs-vs-cats"
      ],
      "metadata": {
        "id": "9EMgVW21D58H",
        "colab": {
          "base_uri": "https://localhost:8080/"
        },
        "outputId": "c69d6f48-14ad-41f0-dae7-42bd9d5c2d30"
      },
      "execution_count": null,
      "outputs": [
        {
          "output_type": "stream",
          "name": "stdout",
          "text": [
            "Warning: Your Kaggle API key is readable by other users on this system! To fix this, you can run 'chmod 600 /root/.kaggle/kaggle.json'\n",
            "Downloading dogs-vs-cats.zip to /content\n",
            "100% 1.06G/1.06G [00:51<00:00, 22.2MB/s]\n",
            "100% 1.06G/1.06G [00:51<00:00, 22.2MB/s]\n"
          ]
        }
      ]
    },
    {
      "cell_type": "code",
      "source": [
        "# unzipping the file\n",
        "'''\n",
        "import zipfile\n",
        "zip_ref= zipfile.ZipFile('/content/dogs-vs-cats.zip')\n",
        "zip_ref.extractall('/content')\n",
        "zip_ref.close()\n",
        "'''\n",
        "\n",
        "!unzip '/content/dogs-vs-cats.zip'"
      ],
      "metadata": {
        "id": "GLrgDPdyb15G"
      },
      "execution_count": null,
      "outputs": []
    },
    {
      "cell_type": "code",
      "source": [
        "# training the dataset\n",
        "\n",
        "train_datagen = ImageDataGenerator(\n",
        "    rescale = 1./255,\n",
        "    shear_range =0.2,\n",
        "    zoom_range =0.2,\n",
        "    horizontal_flip = True\n",
        ")\n",
        "\n",
        "train_set = train_datagen.flow_from_directory(\n",
        "    'train',\n",
        "    target_size=(256,256),\n",
        "    batch_size=32,\n",
        "    class_mode='binary'\n",
        ")"
      ],
      "metadata": {
        "id": "7dtBg0q2Uj7F",
        "colab": {
          "base_uri": "https://localhost:8080/"
        },
        "outputId": "e693bbf6-cd81-4eab-fa77-d0739955703e"
      },
      "execution_count": null,
      "outputs": [
        {
          "output_type": "stream",
          "name": "stdout",
          "text": [
            "Found 20000 images belonging to 2 classes.\n"
          ]
        }
      ]
    },
    {
      "cell_type": "code",
      "source": [
        "# test set\n",
        "\n",
        "test_datagen = ImageDataGenerator(\n",
        "    rescale=1./255\n",
        ")\n",
        "\n",
        "test_set=test_datagen.flow_from_directory(\n",
        "    'test',\n",
        "    target_size=(256,256),\n",
        "    batch_size=32,\n",
        "    class_mode='binary'\n",
        ")\n"
      ],
      "metadata": {
        "id": "wICum9M3V90x",
        "colab": {
          "base_uri": "https://localhost:8080/"
        },
        "outputId": "3cbefd7b-e0f6-4e2d-b756-df8772492558"
      },
      "execution_count": null,
      "outputs": [
        {
          "output_type": "stream",
          "name": "stdout",
          "text": [
            "Found 5000 images belonging to 2 classes.\n"
          ]
        }
      ]
    },
    {
      "cell_type": "code",
      "source": [
        "# initialising the CNN\n",
        "\n",
        "model = tf.keras.models.Sequential()\n",
        "\n"
      ],
      "metadata": {
        "id": "hKI_-13ldTHt"
      },
      "execution_count": null,
      "outputs": []
    },
    {
      "cell_type": "code",
      "source": [
        "# creating the multi layer convulation layer\n",
        "\n",
        "model.add(tf.keras.layers.Conv2D(filters=32, kernel_size=3, padding='valid', activation='relu', input_shape=[256,256,3]))\n",
        "model.add(tf.keras.layers.BatchNormalization())\n",
        "model.add(tf.keras.layers.MaxPool2D(pool_size=2, strides=2, padding='valid'))\n",
        "model.add(tf.keras.layers.Conv2D(filters=64, kernel_size=3, padding='valid', activation='relu'))\n",
        "model.add(tf.keras.layers.BatchNormalization())\n",
        "model.add(tf.keras.layers.MaxPool2D(pool_size=2, strides=2, padding='valid'))\n",
        "model.add(tf.keras.layers.Conv2D(filters=128, kernel_size=3, padding='valid', activation='relu'))\n",
        "model.add(tf.keras.layers.BatchNormalization())\n",
        "model.add(tf.keras.layers.MaxPool2D(pool_size=2, strides=2, padding='valid'))"
      ],
      "metadata": {
        "id": "3Fdq5HtjelwL"
      },
      "execution_count": null,
      "outputs": []
    },
    {
      "cell_type": "code",
      "source": [
        "# flatten the convulation layer\n",
        "\n",
        "model.add(tf.keras.layers.Flatten())"
      ],
      "metadata": {
        "id": "npCajyMier0r"
      },
      "execution_count": null,
      "outputs": []
    },
    {
      "cell_type": "code",
      "source": [
        "# full connection\n",
        "\n",
        "model.add(tf.keras.layers.Dense(units=128, activation='relu'))\n",
        "model.add(tf.keras.layers.Dropout(0.1))\n",
        "model.add(tf.keras.layers.Dense(units=64, activation='relu'))\n",
        "model.add(tf.keras.layers.Dropout(0.1))\n",
        "#model.add(tf.keras.layers.Dense(units=, activation='relu'))\n",
        "#model.add(tf.keras.layers.Dropout(0.1))"
      ],
      "metadata": {
        "id": "XYjJ12s2e7vD"
      },
      "execution_count": null,
      "outputs": []
    },
    {
      "cell_type": "code",
      "source": [
        "# output layer\n",
        "\n",
        "model.add(tf.keras.layers.Dense(units=1, activation='sigmoid'))"
      ],
      "metadata": {
        "id": "94TTDj1JfTxB"
      },
      "execution_count": null,
      "outputs": []
    },
    {
      "cell_type": "code",
      "source": [
        "# compilation\n",
        "\n",
        "model.compile(optimizer= 'adam', loss= 'binary_crossentropy', metrics= ['accuracy'])"
      ],
      "metadata": {
        "id": "h_IWnoRwfa8r"
      },
      "execution_count": null,
      "outputs": []
    },
    {
      "cell_type": "code",
      "source": [
        "# training the train set\n",
        "\n",
        "history = model.fit(x=train_set, validation_data = test_set, epochs=15)"
      ],
      "metadata": {
        "id": "tedAZLvtfr-7",
        "colab": {
          "base_uri": "https://localhost:8080/"
        },
        "outputId": "68dccf65-47d4-4f92-aaaa-655ed7c6bb66"
      },
      "execution_count": null,
      "outputs": [
        {
          "output_type": "stream",
          "name": "stdout",
          "text": [
            "Epoch 1/15\n",
            "625/625 [==============================] - 365s 568ms/step - loss: 1.3396 - accuracy: 0.5786 - val_loss: 0.6548 - val_accuracy: 0.5992\n",
            "Epoch 2/15\n",
            "625/625 [==============================] - 331s 529ms/step - loss: 0.6404 - accuracy: 0.6322 - val_loss: 0.6216 - val_accuracy: 0.6968\n",
            "Epoch 3/15\n",
            "625/625 [==============================] - 325s 520ms/step - loss: 0.6028 - accuracy: 0.6718 - val_loss: 0.5526 - val_accuracy: 0.7194\n",
            "Epoch 4/15\n",
            "625/625 [==============================] - 320s 513ms/step - loss: 0.5331 - accuracy: 0.7296 - val_loss: 0.5197 - val_accuracy: 0.7540\n",
            "Epoch 5/15\n",
            "625/625 [==============================] - 329s 526ms/step - loss: 0.4951 - accuracy: 0.7540 - val_loss: 0.5720 - val_accuracy: 0.7542\n",
            "Epoch 6/15\n",
            "625/625 [==============================] - 319s 510ms/step - loss: 0.4582 - accuracy: 0.7824 - val_loss: 0.4825 - val_accuracy: 0.7768\n",
            "Epoch 7/15\n",
            "625/625 [==============================] - 319s 510ms/step - loss: 0.4205 - accuracy: 0.8047 - val_loss: 0.4501 - val_accuracy: 0.7988\n",
            "Epoch 8/15\n",
            "625/625 [==============================] - 320s 512ms/step - loss: 0.3996 - accuracy: 0.8210 - val_loss: 0.4062 - val_accuracy: 0.8182\n",
            "Epoch 9/15\n",
            "625/625 [==============================] - 319s 510ms/step - loss: 0.3678 - accuracy: 0.8390 - val_loss: 0.7135 - val_accuracy: 0.7594\n",
            "Epoch 10/15\n",
            "625/625 [==============================] - 321s 513ms/step - loss: 0.3508 - accuracy: 0.8467 - val_loss: 0.3653 - val_accuracy: 0.8326\n",
            "Epoch 11/15\n",
            "625/625 [==============================] - 316s 506ms/step - loss: 0.3298 - accuracy: 0.8601 - val_loss: 0.3201 - val_accuracy: 0.8632\n",
            "Epoch 12/15\n",
            "625/625 [==============================] - 323s 517ms/step - loss: 0.3157 - accuracy: 0.8641 - val_loss: 0.3574 - val_accuracy: 0.8560\n",
            "Epoch 13/15\n",
            "625/625 [==============================] - 325s 519ms/step - loss: 0.3033 - accuracy: 0.8725 - val_loss: 0.2985 - val_accuracy: 0.8756\n",
            "Epoch 14/15\n",
            "625/625 [==============================] - 322s 515ms/step - loss: 0.2787 - accuracy: 0.8846 - val_loss: 0.3518 - val_accuracy: 0.8584\n",
            "Epoch 15/15\n",
            "625/625 [==============================] - 327s 524ms/step - loss: 0.2687 - accuracy: 0.8905 - val_loss: 0.2946 - val_accuracy: 0.8786\n"
          ]
        }
      ]
    },
    {
      "cell_type": "code",
      "source": [
        "# this was done to solely check which part of history keyword produces the plot\n",
        "classify_img =history"
      ],
      "metadata": {
        "id": "fIfjlmIU38ET"
      },
      "execution_count": null,
      "outputs": []
    },
    {
      "cell_type": "code",
      "source": [
        "# plotting the accuracy plot\n",
        "\n",
        "plt.plot(classify_img.history['accuracy'], color='red' ,label= 'train')\n",
        "plt.plot(classify_img.history['val_accuracy'], color ='blue', label ='validation')\n",
        "plt.legend()\n",
        "plt.show()"
      ],
      "metadata": {
        "id": "DQk497WWf_AE",
        "colab": {
          "base_uri": "https://localhost:8080/",
          "height": 430
        },
        "outputId": "436e4953-c3df-43bc-d951-e0a84e84e6bf"
      },
      "execution_count": null,
      "outputs": [
        {
          "output_type": "display_data",
          "data": {
            "text/plain": [
              "<Figure size 640x480 with 1 Axes>"
            ],
            "image/png": "[encoded data removed]"
          },
          "metadata": {}
        }
      ]
    },
    {
      "cell_type": "code",
      "source": [
        "# plotting the loss plot\n",
        "\n",
        "plt.plot(history.history['loss'], color= 'red', label= 'train')\n",
        "plt.plot(history.history['val_loss'], color ='blue' ,label ='validation')\n",
        "plt.legend()\n",
        "plt.show()"
      ],
      "metadata": {
        "id": "uVwU4MQFgbRI",
        "colab": {
          "base_uri": "https://localhost:8080/",
          "height": 430
        },
        "outputId": "b456e314-f446-4a81-b7fa-f42bd364a306"
      },
      "execution_count": null,
      "outputs": [
        {
          "output_type": "display_data",
          "data": {
            "text/plain": [
              "<Figure size 640x480 with 1 Axes>"
            ],
            "image/png": "[encoded data removed]"
          },
          "metadata": {}
        }
      ]
    },
    {
      "cell_type": "code",
      "source": [
        "# predicting\n",
        "\n",
        "from keras.preprocessing import image\n",
        "test_image = image.load_img('dog2.jpg', target_size=(256,256))\n",
        "test_image = image.img_to_array(test_image)\n",
        "test_image = np.expand_dims(test_image, axis=0)\n",
        "result = model.predict(test_image)\n",
        "train_set.class_indices\n",
        "if result[0][0] ==1:\n",
        "  prediction = 'dog'\n",
        "else:\n",
        "  prediction = 'cat'"
      ],
      "metadata": {
        "id": "gv74gue8g8Aj",
        "colab": {
          "base_uri": "https://localhost:8080/"
        },
        "outputId": "7ff85e60-ddad-43db-8199-ef7199bfaf7c"
      },
      "execution_count": null,
      "outputs": [
        {
          "output_type": "stream",
          "name": "stdout",
          "text": [
            "1/1 [==============================] - 0s 19ms/step\n"
          ]
        }
      ]
    },
    {
      "cell_type": "code",
      "source": [
        "print(prediction)"
      ],
      "metadata": {
        "id": "HXBUY54y3eBi",
        "colab": {
          "base_uri": "https://localhost:8080/"
        },
        "outputId": "bb9e8713-e498-4775-a3b6-64bc1f92aadd"
      },
      "execution_count": null,
      "outputs": [
        {
          "output_type": "stream",
          "name": "stdout",
          "text": [
            "dog\n"
          ]
        }
      ]
    },
    {
      "cell_type": "code",
      "source": [
        "model.save(\"/content/cat_dog_model.h5\")"
      ],
      "metadata": {
        "id": "ELyEyZmc3hM8",
        "colab": {
          "base_uri": "https://localhost:8080/"
        },
        "outputId": "f6e5621e-8a34-42f2-ef9e-db74d635b956"
      },
      "execution_count": null,
      "outputs": [
        {
          "output_type": "stream",
          "name": "stderr",
          "text": [
            "/usr/local/lib/python3.10/dist-packages/keras/src/engine/training.py:3103: UserWarning: You are saving your model as an HDF5 file via `model.save()`. This file format is considered legacy. We recommend using instead the native Keras format, e.g. `model.save('my_model.keras')`.\n",
            "  saving_api.save_model(\n"
          ]
        }
      ]
    },
    {
      "cell_type": "code",
      "source": [],
      "metadata": {
        "id": "DCvIKeXKOJVT"
      },
      "execution_count": null,
      "outputs": []
    }
  ]
}